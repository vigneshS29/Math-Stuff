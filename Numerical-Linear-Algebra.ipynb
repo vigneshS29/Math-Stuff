{
 "cells": [
  {
   "cell_type": "markdown",
   "id": "4fa7f6fc",
   "metadata": {},
   "source": [
    "## Numerical Linear Algebra"
   ]
  },
  {
   "cell_type": "code",
   "execution_count": 1,
   "id": "7fe3243f",
   "metadata": {},
   "outputs": [],
   "source": [
    "import numpy as np\n",
    "import scipy.linalg  "
   ]
  },
  {
   "cell_type": "code",
   "execution_count": 2,
   "id": "614be771",
   "metadata": {},
   "outputs": [],
   "source": [
    "#Define martrix \n",
    "A = np.array([[2,1,1,0],[4,3,3,1],[8,7,9,5],[6,7,9,8]])"
   ]
  },
  {
   "cell_type": "markdown",
   "id": "3cc4d0e2",
   "metadata": {},
   "source": [
    "### LU Decomposition:\n",
    "\n",
    "It factors a matrix into the product of a lower triangular matrix and an upper triangular matrix."
   ]
  },
  {
   "cell_type": "code",
   "execution_count": 3,
   "id": "90cec4bf",
   "metadata": {},
   "outputs": [
    {
     "name": "stdout",
     "output_type": "stream",
     "text": [
      "P = \n",
      "[[0. 0. 0. 1.]\n",
      " [0. 0. 1. 0.]\n",
      " [1. 0. 0. 0.]\n",
      " [0. 1. 0. 0.]]\n",
      "\n",
      "L = \n",
      "[[ 1.          0.          0.          0.        ]\n",
      " [ 0.75        1.          0.          0.        ]\n",
      " [ 0.5        -0.28571429  1.          0.        ]\n",
      " [ 0.25       -0.42857143  0.33333333  1.        ]]\n",
      "\n",
      "U = \n",
      "[[ 8.          7.          9.          5.        ]\n",
      " [ 0.          1.75        2.25        4.25      ]\n",
      " [ 0.          0.         -0.85714286 -0.28571429]\n",
      " [ 0.          0.          0.          0.66666667]]\n",
      "\n"
     ]
    }
   ],
   "source": [
    "P,L,U = scipy.linalg.lu(A)\n",
    "\n",
    "print(f'P = \\n{P}\\n')\n",
    "print(f'L = \\n{L}\\n')\n",
    "print(f'U = \\n{U}\\n')"
   ]
  },
  {
   "cell_type": "markdown",
   "id": "74ef24c6",
   "metadata": {},
   "source": [
    "### Cholesky Decomposition:\n",
    "It is a decomposition of a Hermitian, positive-definite matrix into the product of a lower triangular matrix and its conjugate transpose"
   ]
  },
  {
   "cell_type": "code",
   "execution_count": 7,
   "id": "ee043adc",
   "metadata": {},
   "outputs": [
    {
     "name": "stdout",
     "output_type": "stream",
     "text": [
      "L = \n",
      "[[ 2.44948974  0.          0.          0.        ]\n",
      " [ 1.22474487  2.12132034  0.          0.        ]\n",
      " [ 1.63299316  1.41421356  2.30940108  0.        ]\n",
      " [ 3.26598632 -1.41421356  1.58771324  3.13249102]]\n",
      "\n",
      "U = \n",
      "[[ 2.44948974  1.22474487  1.63299316  3.26598632]\n",
      " [ 0.          2.12132034  1.41421356 -1.41421356]\n",
      " [ 0.          0.          2.30940108  1.58771324]\n",
      " [ 0.          0.          0.          3.13249102]]\n",
      "\n"
     ]
    }
   ],
   "source": [
    "L = np.linalg.cholesky([[6, 3, 4, 8], [3, 6, 5, 1], [4, 5, 10, 7], [8, 1, 7, 25]]) # we need a different positive definite matrix\n",
    "U = np.transpose(L)\n",
    "\n",
    "print(f'L = \\n{L}\\n')\n",
    "print(f'U = \\n{U}\\n')"
   ]
  },
  {
   "cell_type": "markdown",
   "id": "c9f122e8",
   "metadata": {},
   "source": [
    "### Eigen Decomposition:\n",
    "\n",
    "It is the factorization of a matrix into a canonical form, whereby the matrix is represented in terms of its eigenvalues and eigenvectors"
   ]
  },
  {
   "cell_type": "code",
   "execution_count": 5,
   "id": "3c37b7cf",
   "metadata": {},
   "outputs": [
    {
     "name": "stdout",
     "output_type": "stream",
     "text": [
      "values = \n",
      "[17.76674972  3.46610996  0.51478349  0.25235682]\n",
      "\n",
      "vectors = \n",
      "[[ 0.05217777  0.24958023  0.21781155 -0.39040915]\n",
      " [ 0.19290936  0.34361034  0.46497954  0.86229217]\n",
      " [ 0.62976442  0.02230173 -0.78847685 -0.17999628]\n",
      " [ 0.75063988 -0.9050659   0.33860952 -0.26764575]]\n",
      "\n"
     ]
    }
   ],
   "source": [
    "values, vectors = np.linalg.eig(A)\n",
    "\n",
    "print(f'values = \\n{values}\\n')\n",
    "print(f'vectors = \\n{vectors}\\n')"
   ]
  },
  {
   "cell_type": "markdown",
   "id": "546a7e48",
   "metadata": {},
   "source": [
    "### Singular Value Decomposition: \n",
    "\n",
    "The SVD algorithm factorizes a matrix into one matrix with orthogonal columns and one with orthogonal rows (along with a diagonal matrix, which contains the relative importance of each factor)."
   ]
  },
  {
   "cell_type": "code",
   "execution_count": 6,
   "id": "935cd9cc",
   "metadata": {},
   "outputs": [],
   "source": [
    "U, S, Vh = np.linalg.svd(A, full_matrices=True)"
   ]
  }
 ],
 "metadata": {
  "kernelspec": {
   "display_name": "Python 3 (ipykernel)",
   "language": "python",
   "name": "python3"
  },
  "language_info": {
   "codemirror_mode": {
    "name": "ipython",
    "version": 3
   },
   "file_extension": ".py",
   "mimetype": "text/x-python",
   "name": "python",
   "nbconvert_exporter": "python",
   "pygments_lexer": "ipython3",
   "version": "3.9.7"
  }
 },
 "nbformat": 4,
 "nbformat_minor": 5
}
