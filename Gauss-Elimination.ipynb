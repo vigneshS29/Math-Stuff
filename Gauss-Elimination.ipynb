{
 "cells": [
  {
   "cell_type": "markdown",
   "id": "d5932ab5",
   "metadata": {},
   "source": [
    "### A simple function to perform gauss elimination on matrices\n",
    "\n",
    "Author: Vignesh Sathyaseelan (vsathyas@purdue.edu)"
   ]
  },
  {
   "cell_type": "code",
   "execution_count": 1,
   "id": "3c256406",
   "metadata": {},
   "outputs": [],
   "source": [
    "import numpy as np"
   ]
  },
  {
   "cell_type": "code",
   "execution_count": 2,
   "id": "8749a428",
   "metadata": {},
   "outputs": [],
   "source": [
    "def gauss_elim(A,b):\n",
    "    n = len(A) \n",
    "    \n",
    "    #Elimination \n",
    "    for i in range(n-1): \n",
    "        for j in range(i+1,n):\n",
    "            if A[j,j]:\n",
    "                factor = A[j,i]/A[i,i]\n",
    "\n",
    "            for k in range(n):               \n",
    "                A[j,k] = A[j,k] - (factor * A[i,k])\n",
    "\n",
    "            b[j] = b[j] - (factor * b[i])\n",
    "    \n",
    "    #initialze solution vector \n",
    "    x=np.zeros(n) \n",
    "\n",
    "    #Back substitution\n",
    "    for i in range(n-1, -1, -1):\n",
    "        tmp = b[i]\n",
    "        for j in range(n-1, i, -1):\n",
    "            tmp -= x[j]*A[i,j]\n",
    "        x[i] = tmp/A[i,i]\n",
    "\n",
    "    return A,x"
   ]
  },
  {
   "cell_type": "code",
   "execution_count": 3,
   "id": "dbe21aa1",
   "metadata": {},
   "outputs": [
    {
     "name": "stdout",
     "output_type": "stream",
     "text": [
      "After Gauss Elemination, R = \n",
      " [[-23.     26.    -42.    -32.    -90.   ]\n",
      " [  0.      0.739   3.652  -0.217   3.826]\n",
      " [  0.      0.      4.118   1.588   4.647]\n",
      " [ -0.      0.      0.      0.657  -1.114]\n",
      " [  0.      0.      0.      0.    112.174]] \n",
      "\n",
      "solution (x) = \n",
      " [-5.279 -4.198  0.012 -0.523  0.384] \n",
      "\n"
     ]
    }
   ],
   "source": [
    "#Driver Code\n",
    "\n",
    "#A = nxn matrix\n",
    "A = np.array([[-23.0, 26.0, -42.0, -32.0, -90.0],[-2.0, 3.0, 0.0, -3.0, -4.0],\\\n",
    "              [-17.0, 19.0, -28.0, -22.0, -63.0],[-13.0,14.0,-24.0,-16.0,-52.0],\\\n",
    "              [18.0,-20.0,-32.0,23.0,69.0]])  \n",
    "\n",
    "#b = nx1 vector \n",
    "b = np.array([-6.0,-2.0,-3.0,-2.0,3.0]) \n",
    "\n",
    "#Function Call\n",
    "R,x = gauss_elim(A,b) \n",
    "\n",
    "#Print Output\n",
    "print(f'After Gauss Elemination, R = \\n {np.round(R,3)} \\n')\n",
    "print(f'solution (x) = \\n {np.round(x,3)} \\n') "
   ]
  }
 ],
 "metadata": {
  "kernelspec": {
   "display_name": "Python 3 (ipykernel)",
   "language": "python",
   "name": "python3"
  },
  "language_info": {
   "codemirror_mode": {
    "name": "ipython",
    "version": 3
   },
   "file_extension": ".py",
   "mimetype": "text/x-python",
   "name": "python",
   "nbconvert_exporter": "python",
   "pygments_lexer": "ipython3",
   "version": "3.9.7"
  }
 },
 "nbformat": 4,
 "nbformat_minor": 5
}
