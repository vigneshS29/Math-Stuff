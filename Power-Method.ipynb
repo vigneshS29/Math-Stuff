{
 "cells": [
  {
   "cell_type": "markdown",
   "metadata": {},
   "source": [
    "### 3. EignenValues - Power Method \n Autor: Vignesh Sathyaseelan (vsathyas@purdue.edu)"
   ]
  },
  {
   "cell_type": "markdown",
   "metadata": {},
   "source": [
    "In some problems, we only need to find the largest dominant eigenvalue and its corresponding eigenvector. In this case, we can use the power method - a iterative method that will converge to the largest eigenvalue. Let’s see the following how the power method works.\n",
    "\n",
    "$$ AU_{k} = \\lambda _{k} U_{k} $$\n",
    "\n",
    "Where;\n",
    "\n",
    "1) The A is the matrix. \n",
    "\n",
    "2) The $u_{k-1}$ is the eigenvector.\n",
    "\n",
    "3) The $u_{1}$ is the inital guess eigenvector.\n",
    "\n",
    "4) $\\lambda _{k}$ is the correcspoding eigenvalue\n",
    "\n",
    "Using $A^{-1}$ give you the lowest eigenvalue"
   ]
  },
  {
   "cell_type": "code",
   "execution_count": 1,
   "metadata": {},
   "outputs": [],
   "source": [
    "import numpy as np"
   ]
  },
  {
   "cell_type": "code",
   "execution_count": 2,
   "metadata": {},
   "outputs": [],
   "source": [
    "def scale(x):\n",
    "    scale_f = np.max(x)\n",
    "    x_scale = np.round(x/ scale_f,2)\n",
    "    return x_scale, np.round(scale_f,2)\n",
    "\n",
    "def power_it(A,eig_vec,n_iter=25):  \n",
    "    for i in range(n_iter):\n",
    "        eig_vec,eig_val = scale(np.dot(A,eig_vec))\n",
    "    return eig_vec,eig_val"
   ]
  },
  {
   "cell_type": "code",
   "execution_count": 3,
   "metadata": {},
   "outputs": [
    {
     "name": "stdout",
     "output_type": "stream",
     "text": [
      "Matrix A = \n",
      " [[  2 -12]\n",
      " [  1  -5]]\n",
      "eigen vector = [3. 1.] eigen value = -2.0 \n",
      "\n",
      "Matrix A = \n",
      " [[ 1  2  0]\n",
      " [-2  1  2]\n",
      " [ 1  3  1]]\n",
      "eigen vector = [0.5 0.5 1. ] eigen value = 3.0 \n",
      "\n"
     ]
    }
   ],
   "source": [
    "#Driver Code\n",
    "\n",
    "A = np.array([[2,-12],[1,-5]])\n",
    "x  = np.ones(len(A))\n",
    "print('Matrix A = \\n {}'.format(A))\n",
    "print('eigen vector = {} eigen value = {} \\n'.format(*power_it(A,x)))\n",
    "\n",
    "A = np.array([[1,2,0],[-2,1,2],[1,3,1]])\n",
    "x  = np.ones(len(A))\n",
    "print('Matrix A = \\n {}'.format(A))\n",
    "print('eigen vector = {} eigen value = {} \\n'.format(*power_it(A,x)))"
   ]
  }
 ],
 "metadata": {
  "kernelspec": {
   "display_name": "Python 3 (ipykernel)",
   "language": "python",
   "name": "python3"
  },
  "language_info": {
   "codemirror_mode": {
    "name": "ipython",
    "version": 3
   },
   "file_extension": ".py",
   "mimetype": "text/x-python",
   "name": "python",
   "nbconvert_exporter": "python",
   "pygments_lexer": "ipython3",
   "version": "3.9.7"
  },
  "vscode": {
   "interpreter": {
    "hash": "916dbcbb3f70747c44a77c7bcd40155683ae19c65e1c03b4aa3499c5328201f1"
   }
  }
 },
 "nbformat": 4,
 "nbformat_minor": 2
}
