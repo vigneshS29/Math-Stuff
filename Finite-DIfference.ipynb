{
 "cells": [
  {
   "cell_type": "markdown",
   "id": "4c1894b4",
   "metadata": {},
   "source": [
    "### 5. Numerical Integration: Finite Difference\n",
    "\n",
    "Author: Vignesh Sathyaseelan (vsathyas@purdue.edu)"
   ]
  },
  {
   "cell_type": "code",
   "execution_count": 1,
   "id": "39e5f4f2",
   "metadata": {},
   "outputs": [],
   "source": [
    "import numpy as np\n",
    "import matplotlib.pyplot as plt"
   ]
  },
  {
   "cell_type": "markdown",
   "id": "581ca39b",
   "metadata": {},
   "source": [
    "Second Order Constat Coefficient Problem\n",
    "\n",
    "$$ \\frac{d^{2}y}{dx^{2}} - 2\\frac{dy}{dx} + y = 0; y(0) = 0; y(1) = 1 $$\n",
    "\n",
    "$$ Analytical \\  solution: y = x e^{x-1} $$"
   ]
  },
  {
   "cell_type": "code",
   "execution_count": 2,
   "id": "f4494414",
   "metadata": {},
   "outputs": [],
   "source": [
    "def gauss_elim(A,b):\n",
    "    n = len(A) \n",
    "    \n",
    "    #Elimination \n",
    "    for i in range(n-1): \n",
    "        for j in range(i+1,n):\n",
    "            if A[j,j]:\n",
    "                factor = A[j,i]/A[i,i]\n",
    "            else:\n",
    "                continue\n",
    "            for k in range(n):               \n",
    "                A[j,k] = A[j,k] - (factor * A[i,k])\n",
    "\n",
    "            b[j] = b[j] - (factor * b[i])\n",
    "\n",
    "    #Back substitution\n",
    "    x=np.zeros(n) #initialze solution vector \n",
    "\n",
    "    for i in range(n-1, -1, -1):\n",
    "        tmp = b[i]\n",
    "        for j in range(n-1, i, -1):\n",
    "            tmp -= x[j]*A[i,j]\n",
    "        x[i] = tmp/A[i,i]\n",
    "\n",
    "    return A,x"
   ]
  },
  {
   "cell_type": "code",
   "execution_count": 3,
   "id": "035351e1",
   "metadata": {},
   "outputs": [
    {
     "data": {
      "text/plain": [
       "<matplotlib.legend.Legend at 0x7fd3faa663a0>"
      ]
     },
     "execution_count": 3,
     "metadata": {},
     "output_type": "execute_result"
    },
    {
     "data": {
      "image/png": "[encoded data removed]",
      "text/plain": [
       "<Figure size 432x288 with 1 Axes>"
      ]
     },
     "metadata": {
      "needs_background": "light"
     },
     "output_type": "display_data"
    }
   ],
   "source": [
    "a,b,n = 0,1,10    #Number of grid points to evaluate, Initial and final condition\n",
    "\n",
    "h = (b-a)/n\n",
    "x = np.arange(a,b+0.001,h)\n",
    "\n",
    "#Generate A matrix\n",
    "A = np.zeros([n+1,n+1])\n",
    "A[0,0] = 1\n",
    "A[n,n] = 1\n",
    "for i in range(1,n):\n",
    "    A[i,i-1] = 1 + h\n",
    "    A[i,i] = h**2 - 2\n",
    "    A[i,i+1] = 1 - h\n",
    "\n",
    "#Generate Solution Vector\n",
    "b = np.zeros(n+1)\n",
    "b[0] = 0\n",
    "b[-1] = 1\n",
    "\n",
    "#Solve the system of equations\n",
    "_,y  = gauss_elim(A,b) \n",
    "\n",
    "#Plot Solution\n",
    "plt.figure()\n",
    "plt.scatter(x,y,label='FD',color='blue')\n",
    "g = lambda x : x*np.exp(x-1) #Analytical Solution\n",
    "plt.plot(x,g(x),color='black',label = 'Solution')\n",
    "plt.legend()"
   ]
  }
 ],
 "metadata": {
  "kernelspec": {
   "display_name": "Python 3 (ipykernel)",
   "language": "python",
   "name": "python3"
  },
  "language_info": {
   "codemirror_mode": {
    "name": "ipython",
    "version": 3
   },
   "file_extension": ".py",
   "mimetype": "text/x-python",
   "name": "python",
   "nbconvert_exporter": "python",
   "pygments_lexer": "ipython3",
   "version": "3.9.7"
  },
  "vscode": {
   "interpreter": {
    "hash": "98f439725849f506b34481144df5f624da0ab66809e41d420e0574b4464eac48"
   }
  }
 },
 "nbformat": 4,
 "nbformat_minor": 5
}
