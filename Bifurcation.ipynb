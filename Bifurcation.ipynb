{
 "cells": [
  {
   "cell_type": "markdown",
   "id": "542f2cda",
   "metadata": {},
   "source": [
    "### Interactive Plots for Bifurcation"
    "\n",
    "Author: Vignesh Sathyaseelan (vsathyas@purdue.edu)"
   ]
  },
  {
   "cell_type": "code",
   "execution_count": 1,
   "id": "4f8c484b",
   "metadata": {},
   "outputs": [],
   "source": [
    "%matplotlib inline\n",
    "import numpy as np\n",
    "import matplotlib.pyplot as plt\n",
    "from ipywidgets import interact, FloatSlider"
   ]
  },
  {
   "cell_type": "code",
   "execution_count": 2,
   "id": "1fc27522",
   "metadata": {},
   "outputs": [
    {
     "data": {
      "application/vnd.jupyter.widget-view+json": {
       "model_id": "2ac93ef9185f4862a07e636ea87d26d2",
       "version_major": 2,
       "version_minor": 0
      },
      "text/plain": [
       "interactive(children=(FloatSlider(value=0.0, description='r', max=1.0, min=-1.0), Output()), _dom_classes=('wi…"
      ]
     },
     "metadata": {},
     "output_type": "display_data"
    }
   ],
   "source": [
    "## Set up interactive figure\n",
    "def plot(r):\n",
    "    \n",
    "    xmin, xmax, col0, col1, col2 = -1.6, 1.6 ,\"grey\", \"blue\", \"black\" #Plot parameters\n",
    "    \n",
    "    fig = plt.figure(figsize=(8,3),dpi = 125)\n",
    "    ax  = fig.add_subplot(1, 1, 1)\n",
    "    x   = np.linspace(xmin, xmax)\n",
    "    \n",
    "    plt.plot([xmin, xmax], [0.0, 0.0],'--',color=col0) # guides to the eye\n",
    "    plt.plot(x, r*x, color=col1, linewidth=2)\n",
    "    plt.plot(x, np.sin(x), color=col2, linewidth=3)\n",
    "    \n",
    "    plt.title(r\"sin(x) - rx\")    \n",
    "    plt.xlim(xmin, xmax)\n",
    "    plt.ylim(-1.5, 1.5)\n",
    "    plt.xlabel(r'$x$')\n",
    "    plt.ylabel(r'$y$')\n",
    "    plt.show()\n",
    "\n",
    "interact(plot,r = FloatSlider(min=-1, max=1, value=0, step = 0.1, description=\"r\"));     "
   ]
  },
  {
   "cell_type": "code",
   "execution_count": 3,
   "id": "d341725d",
   "metadata": {},
   "outputs": [
    {
     "data": {
      "application/vnd.jupyter.widget-view+json": {
       "model_id": "9170f9e4f01540499eba4f65dd653564",
       "version_major": 2,
       "version_minor": 0
      },
      "text/plain": [
       "interactive(children=(FloatSlider(value=0.0, description='r', max=0.5, min=-0.5), Output()), _dom_classes=('wi…"
      ]
     },
     "metadata": {},
     "output_type": "display_data"
    }
   ],
   "source": [
    "def plot(r):\n",
    "    \n",
    "    xmin, xmax, col0, col1, col2 = -1.6, 1.6 ,\"grey\", \"blue\", \"black\" #Plot parameters\n",
    "    \n",
    "    fig = plt.figure(figsize=(8,3),dpi = 125)\n",
    "    ax  = fig.add_subplot(1, 1, 1)\n",
    "    x   = np.linspace(xmin, xmax)\n",
    "    \n",
    "    plt.plot([xmin, xmax], [0.0, 0.0],'--',color=col0) # guides to the eye\n",
    "    plt.plot(x, np.sin(x) - 0.5*x, color=col1, linewidth=2)\n",
    "    plt.plot(x, r*np.ones(len(x)), color=col2, linewidth=3)\n",
    "    \n",
    "    plt.title(r\"sin(x) - r\")    \n",
    "    plt.xlim(xmin, xmax)\n",
    "    plt.ylim(-0.6, 0.6)\n",
    "    plt.xlabel(r'$x$')\n",
    "    plt.ylabel(r'$y$')\n",
    "    plt.show()\n",
    "\n",
    "interact(plot,r = FloatSlider(min=-0.5, max=0.5, value=0, step = 0.1, description=\"r\"));     "
   ]
  },
  {
   "cell_type": "code",
   "execution_count": 3,
   "id": "008a2579",
   "metadata": {},
   "outputs": [
    {
     "data": {
      "application/vnd.jupyter.widget-view+json": {
       "model_id": "fff643b0591047e5a87e1d3a8f81e457",
       "version_major": 2,
       "version_minor": 0
      },
      "text/plain": [
       "interactive(children=(FloatSlider(value=0.0, description='r', max=1.0, min=-1.0), Output()), _dom_classes=('wi…"
      ]
     },
     "metadata": {},
     "output_type": "display_data"
    }
   ],
   "source": [
    "def plot(r):\n",
    "    \n",
    "    xmin, xmax, col0, col1, col2 = -1.6, 1.6 ,\"grey\", \"blue\", \"black\" #Plot parameters\n",
    "    \n",
    "    fig = plt.figure(figsize=(8,3),dpi = 125)\n",
    "    ax  = fig.add_subplot(1, 1, 1)\n",
    "    x   = np.linspace(xmin, xmax)\n",
    "    \n",
    "    plt.plot([xmin, xmax], [0.0, 0.0],'--',color=col0) # guides to the eye\n",
    "    plt.plot(x, x**2, color=col1, linewidth=2)\n",
    "    plt.plot(x, r*np.sin(x), color=col2, linewidth=3)\n",
    "    \n",
    "    plt.title(r\"rsin(x) - x^2\")    \n",
    "    plt.xlim(xmin, xmax)\n",
    "    plt.ylim(-1.5, 1.5)\n",
    "    plt.xlabel(r'$x$')\n",
    "    plt.ylabel(r'$y$')\n",
    "    plt.show()\n",
    "\n",
    "interact(plot,r = FloatSlider(min=-1, max=1, value=0, step = 0.1, description=\"r\"));     "
   ]
  },
  {
   "cell_type": "code",
   "execution_count": null,
   "id": "b05f2c8b",
   "metadata": {},
   "outputs": [],
   "source": []
  }
 ],
 "metadata": {
  "kernelspec": {
   "display_name": "Python 3 (ipykernel)",
   "language": "python",
   "name": "python3"
  },
  "language_info": {
   "codemirror_mode": {
    "name": "ipython",
    "version": 3
   },
   "file_extension": ".py",
   "mimetype": "text/x-python",
   "name": "python",
   "nbconvert_exporter": "python",
   "pygments_lexer": "ipython3",
   "version": "3.9.7"
  }
 },
 "nbformat": 4,
 "nbformat_minor": 5
}
